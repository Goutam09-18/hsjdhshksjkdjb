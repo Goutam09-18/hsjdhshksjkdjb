{
 "cells": [
  {
   "cell_type": "code",
   "execution_count": 3,
   "id": "b05d39c4-8de8-4742-a025-2369f251a527",
   "metadata": {},
   "outputs": [
    {
     "name": "stdout",
     "output_type": "stream",
     "text": [
      "x= 5678\n",
      "y= 1234\n"
     ]
    }
   ],
   "source": [
    "\"\"\" 1.Declare two variables, `x` and `y`, and assign them integer values. Swap the\n",
    " values of these variables without using any temporary variable.\"\"\"\n",
    "\n",
    "x=1234\n",
    "y=5678\n",
    "\n",
    "x,y = y,x\n",
    "print(\"x=\",x)\n",
    "print(\"y=\",y)"
   ]
  },
  {
   "cell_type": "code",
   "execution_count": 52,
   "id": "5a531d1b-b366-486e-b147-56d28e2ad472",
   "metadata": {},
   "outputs": [
    {
     "name": "stdin",
     "output_type": "stream",
     "text": [
      "lenght of the rectangle =  2\n",
      "width of the rectangle =  3\n"
     ]
    },
    {
     "name": "stdout",
     "output_type": "stream",
     "text": [
      "the area of rectangle = 3.0\n"
     ]
    }
   ],
   "source": [
    "\"\"\" 2.Create a program that calculates the area of a rectangle. Take the length and\n",
    "width as inputs from the user and store them in variables. Calculate and\n",
    "display the area.\"\"\"\n",
    "\n",
    "# we can use both the cases by the number of use of the function\n",
    "# 1st case :-\n",
    "\n",
    "# def area(length,width):\n",
    "    \n",
    "#        a=(((length*width)/2))\n",
    "#        return a\n",
    "       \n",
    "      \n",
    "    \n",
    "    \n",
    "# length=int(input(\"lenght of the rectangle = \"))\n",
    "# width=int(input(\"width of the rectangle = \"))\n",
    "# print(\"the area of rectangle =\",area(length,width))\n",
    "\n",
    "# 2nd case :-\n",
    "\n",
    "length=int(input(\"lenght of the rectangle = \"))\n",
    "width=int(input(\"width of the rectangle = \"))\n",
    "print(\"the area of rectangle =\",((length*width)/2))\n",
    "\n"
   ]
  },
  {
   "cell_type": "code",
   "execution_count": 54,
   "id": "98e4b392-6e88-41bb-a0a2-fc610d1d25e1",
   "metadata": {},
   "outputs": [
    {
     "name": "stdin",
     "output_type": "stream",
     "text": [
      "temperature = 30\n"
     ]
    },
    {
     "name": "stdout",
     "output_type": "stream",
     "text": [
      "the temperature in Fahrenheit =  86.0\n"
     ]
    }
   ],
   "source": [
    "'''3.Write a Python program that converts temperatures from Celsius to\n",
    "Fahrenheit. Take the temperature in Celsius as input, store it in a variable,\n",
    "convert it to Fahrenheit, and display the result'''\n",
    "\n",
    "celsius = int(input(\"temperature =\"))\n",
    "Fahrenheit = (celsius * 9/5) + 32\n",
    "print(\"the temperature in Fahrenheit = \",Fahrenheit)\n",
    "\n"
   ]
  },
  {
   "cell_type": "code",
   "execution_count": 4,
   "id": "bcb6e387-c095-4a68-8990-7847e2fffe2a",
   "metadata": {},
   "outputs": [
    {
     "name": "stdin",
     "output_type": "stream",
     "text": [
      "give the string = goutam\n"
     ]
    },
    {
     "name": "stdout",
     "output_type": "stream",
     "text": [
      "the length of the string = 6\n"
     ]
    }
   ],
   "source": [
    "'''string based questions\n",
    "1. Write a Python program that takes a string as input and prints the length of\n",
    "the string.'''\n",
    "\n",
    "\n",
    "A=str(input(\"give the string =\"))\n",
    "print(\"the length of the string =\",len(A))"
   ]
  },
  {
   "cell_type": "code",
   "execution_count": 8,
   "id": "d1d83e2a-0172-4d20-bc65-40eb07f15705",
   "metadata": {},
   "outputs": [
    {
     "name": "stdin",
     "output_type": "stream",
     "text": [
      "Enter a sentence:  goutam varma\n"
     ]
    },
    {
     "name": "stdout",
     "output_type": "stream",
     "text": [
      "Number of vowels: 5\n"
     ]
    }
   ],
   "source": [
    "'''2. Create a program that takes a sentence from the user and counts the number\n",
    "of vowels (a, e, i, o, u) in the string.'''\n",
    "\n",
    "def count_vowels(sentence):\n",
    "    vowels = 'aeiouAEIOU'\n",
    "    vowel_count = 0\n",
    "\n",
    "    for char in sentence:\n",
    "        if char in vowels:\n",
    "            vowel_count += 1\n",
    "\n",
    "    return vowel_count\n",
    "\n",
    "user_sentence = input(\"Enter a sentence: \")\n",
    "num_vowels = count_vowels(user_sentence)\n",
    "print(\"Number of vowels:\", num_vowels)\n"
   ]
  },
  {
   "cell_type": "code",
   "execution_count": 9,
   "id": "44401ba8-2ba4-4c4e-998f-a4699323e5b1",
   "metadata": {},
   "outputs": [
    {
     "name": "stdout",
     "output_type": "stream",
     "text": [
      "amraV matuoG\n"
     ]
    }
   ],
   "source": [
    "'''3. Given a string, reverse the order of characters using string slicing and print\n",
    "the reversed string.'''\n",
    "\n",
    "S = \"Goutam Varma\"\n",
    "print(S[-1::-1])"
   ]
  },
  {
   "cell_type": "code",
   "execution_count": 12,
   "id": "62900e5b-08f5-43d5-af89-09b6c5af6af4",
   "metadata": {},
   "outputs": [
    {
     "name": "stdin",
     "output_type": "stream",
     "text": [
      "string = LEvel\n"
     ]
    },
    {
     "name": "stdout",
     "output_type": "stream",
     "text": [
      "the string is a palindrome\n"
     ]
    }
   ],
   "source": [
    "'''4. Write a program that takes a string as input and checks if it is a palindrome\n",
    "(reads the same forwards and backwards).'''\n",
    "\n",
    "A = str(input(\"string =\"))\n",
    "A=A.lower() # due to this the chances of getting error will reduce \n",
    "A=A.replace(\" \",\"\")\n",
    "\n",
    "if (A==A[::-1]):\n",
    "    print(\"the string is a palindrome\")\n",
    "else:\n",
    "    print(\"the string is not a palindrome\")\n"
   ]
  },
  {
   "cell_type": "code",
   "execution_count": 13,
   "id": "553aca91-988f-442a-afc3-f3ebc961ccbe",
   "metadata": {},
   "outputs": [
    {
     "name": "stdin",
     "output_type": "stream",
     "text": [
      "string = goutam varma\n"
     ]
    },
    {
     "name": "stdout",
     "output_type": "stream",
     "text": [
      "goutamvarma\n"
     ]
    }
   ],
   "source": [
    "'''5. Create a program that takes a string as input and removes all the spaces from\n",
    "it. Print the modified string without spaces.'''\n",
    "\n",
    "S= str(input(\"string =\"))\n",
    "M= S.replace(\" \",\"\")\n",
    "print(M)"
   ]
  },
  {
   "cell_type": "code",
   "execution_count": null,
   "id": "0dcb7bd4-9ccb-4f09-a1e6-33c874e66a6e",
   "metadata": {},
   "outputs": [],
   "source": []
  }
 ],
 "metadata": {
  "kernelspec": {
   "display_name": "Python 3 (ipykernel)",
   "language": "python",
   "name": "python3"
  },
  "language_info": {
   "codemirror_mode": {
    "name": "ipython",
    "version": 3
   },
   "file_extension": ".py",
   "mimetype": "text/x-python",
   "name": "python",
   "nbconvert_exporter": "python",
   "pygments_lexer": "ipython3",
   "version": "3.10.8"
  }
 },
 "nbformat": 4,
 "nbformat_minor": 5
}
